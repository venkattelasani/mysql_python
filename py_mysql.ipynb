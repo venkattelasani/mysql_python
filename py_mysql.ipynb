{
 "cells": [
  {
   "cell_type": "markdown",
   "id": "1e6c0bdf",
   "metadata": {},
   "source": [
    "MySQL Workbench ≠ MySQL Server"
   ]
  },
  {
   "cell_type": "markdown",
   "id": "21b22a61",
   "metadata": {},
   "source": [
    "MySQL → to store & organize the data.\n",
    "\n",
    "Python → to analyze, visualize, model, or clean the data."
   ]
  },
  {
   "cell_type": "markdown",
   "id": "593e26e0",
   "metadata": {},
   "source": [
    "---"
   ]
  },
  {
   "cell_type": "markdown",
   "id": "2ccead4d",
   "metadata": {},
   "source": [
    "- MySQL Server = the engine (stores and processes data)\n",
    "\n",
    "- Workbench = the dashboard (a tool to view and manage data)\n",
    "\n",
    "- Python/Jupyter = the driver (can directly talk to the engine without opening dashboard)\n",
    "\n",
    "- So even if Workbench is closed, MySQL Server is still running → that’s why Python can connect anytime."
   ]
  },
  {
   "cell_type": "markdown",
   "id": "0725f4d7",
   "metadata": {},
   "source": [
    "---"
   ]
  },
  {
   "cell_type": "markdown",
   "id": "c13e9755",
   "metadata": {},
   "source": [
    "we have to Close the  Connection: by after excute queries<br>\n",
    "\n",
    "cursor.close()<br>\n",
    "connection.close()\n"
   ]
  },
  {
   "cell_type": "markdown",
   "id": "f6a930aa",
   "metadata": {},
   "source": [
    "---"
   ]
  },
  {
   "cell_type": "markdown",
   "id": "f7dded25",
   "metadata": {},
   "source": [
    "| Task               | Use SQL | Use Python              |\n",
    "| ------------------ | ------- | ----------------------- |\n",
    "| Create DB/Tables   | ✅       | ✅ (via cursor)          |\n",
    "| Insert / Fetch     | ✅       | ✅                       |\n",
    "| Clean Missing Data | ❌       | ✅                       |\n",
    "| Statistics         | Limited | ✅ (NumPy, pandas)       |\n",
    "| Visualization      | ❌       | ✅ (Matplotlib, Seaborn) |\n",
    "| Machine Learning   | ❌       | ✅                       |\n"
   ]
  },
  {
   "cell_type": "markdown",
   "id": "38467a89",
   "metadata": {},
   "source": [
    "Cursor = SQL Operator Inside Python"
   ]
  },
  {
   "cell_type": "markdown",
   "id": "83b9e93f",
   "metadata": {},
   "source": [
    "cursor is what sends your SQL commands to the database and receives the result.\n",
    "You can think of."
   ]
  },
  {
   "cell_type": "markdown",
   "id": "da3045e9",
   "metadata": {},
   "source": [
    "---"
   ]
  },
  {
   "cell_type": "markdown",
   "id": "27a2b333",
   "metadata": {},
   "source": [
    "### MYSQL–PYTHON METHODS:"
   ]
  },
  {
   "cell_type": "markdown",
   "id": "9326af35",
   "metadata": {},
   "source": [
    "| Method                      | Description                                               | Example                                                                                            |\n",
    "| --------------------------- | --------------------------------------------------------- | -------------------------------------------------------------------------------------------------- |\n",
    "| `mysql.connector.connect()` | Establish a connection to the MySQL server                | `conn = mysql.connector.connect(host='localhost', user='root', password='1234', database='sales')` |\n",
    "| `conn.is_connected()`       | Checks if the connection is active                        | `if conn.is_connected(): print(\"Connected!\")`                                                      |\n",
    "| `conn.commit()`             | Saves all changes made by `INSERT`, `UPDATE`, or `DELETE` | `conn.commit()`                                                                                    |\n",
    "| `conn.rollback()`           | Cancels uncommitted changes (used in transactions)        | `conn.rollback()`                                                                                  |\n",
    "| `conn.close()`              | Closes the connection to MySQL                            | `conn.close()`                                                                                     |\n"
   ]
  },
  {
   "cell_type": "markdown",
   "id": "e9ed7bf4",
   "metadata": {},
   "source": [
    "---"
   ]
  },
  {
   "cell_type": "markdown",
   "id": "ac3cfba1",
   "metadata": {},
   "source": [
    "### Cursor-Level Methods"
   ]
  },
  {
   "cell_type": "markdown",
   "id": "ffbdb7df",
   "metadata": {},
   "source": [
    "| Method                                 | Description                                                 | Example                                                                                         |\n",
    "| -------------------------------------- | ----------------------------------------------------------- | ----------------------------------------------------------------------------------------------- |\n",
    "| `cursor.execute(query, params)`        | Executes a single SQL query                                 | `cursor.execute(\"SELECT * FROM employees WHERE id = %s\", (101,))`                               |\n",
    "| `cursor.executemany(query, data_list)` | Executes multiple SQL queries at once (bulk insert/update)  | `cursor.executemany(\"INSERT INTO employees (id,name) VALUES (%s,%s)\", [(1,'John'),(2,'Sara')])` |\n",
    "| `cursor.fetchall()`                    | Fetches **all rows** from the last query result             | `rows = cursor.fetchall()`                                                                      |\n",
    "| `cursor.fetchone()`                    | Fetches **one row** (useful for loops or single results)    | `row = cursor.fetchone()`                                                                       |\n",
    "| `cursor.fetchmany(size)`               | Fetches the next `size` number of rows                      | `rows = cursor.fetchmany(5)`                                                                    |\n",
    "| `cursor.rowcount`                      | Returns number of rows affected by last query               | `print(cursor.rowcount)`                                                                        |\n",
    "| `cursor.lastrowid`                     | Returns the ID of the last inserted row (if auto-increment) | `print(cursor.lastrowid)`                                                                       |\n",
    "| `cursor.close()`                       | Closes the cursor                                           | `cursor.close()`                                                                                |\n"
   ]
  },
  {
   "cell_type": "markdown",
   "id": "b9226937",
   "metadata": {},
   "source": [
    "-  Multi-line string : \"\"\" \"\"\" used to write text/sql quiries  in multiple lines but you have to    assign to a variable\n",
    "-  doc-string : \"\"\" \"\" used to  write text in multiple lines but no need to assign to a variable"
   ]
  },
  {
   "cell_type": "markdown",
   "id": "5aa26acf",
   "metadata": {},
   "source": [
    "---"
   ]
  },
  {
   "cell_type": "markdown",
   "id": "c5ef1a8e",
   "metadata": {},
   "source": [
    "connection.commit()\n"
   ]
  },
  {
   "cell_type": "markdown",
   "id": "9b1d3851",
   "metadata": {},
   "source": [
    "- Purpose: Saves all changes made in the current session (INSERT, UPDATE, DELETE).\n",
    "\n",
    "- SQL in Python does not auto-save by default.\n",
    "\n",
    "- If you forget this, changes will not be applied to the database."
   ]
  },
  {
   "cell_type": "markdown",
   "id": "47820db5",
   "metadata": {},
   "source": [
    "---"
   ]
  },
  {
   "cell_type": "code",
   "execution_count": null,
   "id": "ce6d5ff4",
   "metadata": {},
   "outputs": [],
   "source": [
    "#!pip install mysql-connector-python"
   ]
  },
  {
   "cell_type": "code",
   "execution_count": null,
   "id": "875236a5",
   "metadata": {},
   "outputs": [],
   "source": [
    "#pip install pandas"
   ]
  },
  {
   "cell_type": "code",
   "execution_count": null,
   "id": "16abd9fd",
   "metadata": {},
   "outputs": [],
   "source": [
    "#pip install matplotlib"
   ]
  },
  {
   "cell_type": "code",
   "execution_count": 135,
   "id": "359b0cec",
   "metadata": {},
   "outputs": [],
   "source": [
    "import mysql.connector\n",
    "import pandas as pd\n",
    "import matplotlib.pyplot as plt\n"
   ]
  },
  {
   "cell_type": "code",
   "execution_count": null,
   "id": "bf3f341e",
   "metadata": {},
   "outputs": [],
   "source": [
    "# Connect to MySQL\n",
    "connection = mysql.connector.connect(\n",
    "    host=\"XXXXXXXX\",       # usually 'localhost'\n",
    "    user=\"XXXXXXXXXX\",            # your MySQL username\n",
    "    password=\"XXXXXXXX\"  # your MySQL password weak\n",
    ")\n",
    "#database=\"company_db\" "
   ]
  },
  {
   "cell_type": "code",
   "execution_count": 137,
   "id": "9133ac5d",
   "metadata": {},
   "outputs": [],
   "source": [
    "cursor = connection.cursor()\n",
    "cursor.execute(\"CREATE DATABASE  joe;\")"
   ]
  },
  {
   "cell_type": "code",
   "execution_count": 139,
   "id": "07b36dfe",
   "metadata": {},
   "outputs": [],
   "source": [
    "connection.database = \"joe\"#selecting particular datbase"
   ]
  },
  {
   "cell_type": "code",
   "execution_count": 140,
   "id": "e56296fe",
   "metadata": {},
   "outputs": [],
   "source": [
    "create_table_query = \"\"\"\n",
    "CREATE TABLE employees (\n",
    "    id INT AUTO_INCREMENT PRIMARY KEY,\n",
    "    name VARCHAR(50),\n",
    "    department VARCHAR(50),\n",
    "    salary FLOAT\n",
    ");\n",
    "\"\"\"\n",
    "cursor.execute(create_table_query)\n"
   ]
  },
  {
   "cell_type": "code",
   "execution_count": 141,
   "id": "52c98170",
   "metadata": {},
   "outputs": [],
   "source": [
    "insert_query = \"\"\"\n",
    "INSERT INTO employees (name, department, salary)\n",
    "VALUES (%s, %s, %s);\n",
    "\"\"\"\n",
    "data = [\n",
    "    (\"Alice\", \"HR\", 45000),\n",
    "    (\"Bob\", \"IT\", 60000),\n",
    "    (\"Charlie\", \"Finance\", 55000),\n",
    "    (\"David\", \"IT\", 70000),\n",
    "    (\"Emma\", \"HR\", 50000)\n",
    "]\n",
    "\n",
    "cursor.executemany(insert_query, data)\n",
    "connection.commit()"
   ]
  },
  {
   "cell_type": "code",
   "execution_count": 142,
   "id": "3033c913",
   "metadata": {},
   "outputs": [
    {
     "name": "stderr",
     "output_type": "stream",
     "text": [
      "C:\\Users\\VENKAT RAO\\AppData\\Local\\Temp\\ipykernel_2404\\870962344.py:2: UserWarning: pandas only supports SQLAlchemy connectable (engine/connection) or database string URI or sqlite3 DBAPI2 connection. Other DBAPI2 objects are not tested. Please consider using SQLAlchemy.\n",
      "  df = pd.read_sql(query, connection)\n"
     ]
    },
    {
     "data": {
      "text/html": [
       "<div>\n",
       "<style scoped>\n",
       "    .dataframe tbody tr th:only-of-type {\n",
       "        vertical-align: middle;\n",
       "    }\n",
       "\n",
       "    .dataframe tbody tr th {\n",
       "        vertical-align: top;\n",
       "    }\n",
       "\n",
       "    .dataframe thead th {\n",
       "        text-align: right;\n",
       "    }\n",
       "</style>\n",
       "<table border=\"1\" class=\"dataframe\">\n",
       "  <thead>\n",
       "    <tr style=\"text-align: right;\">\n",
       "      <th></th>\n",
       "      <th>id</th>\n",
       "      <th>name</th>\n",
       "      <th>department</th>\n",
       "      <th>salary</th>\n",
       "    </tr>\n",
       "  </thead>\n",
       "  <tbody>\n",
       "    <tr>\n",
       "      <th>0</th>\n",
       "      <td>1</td>\n",
       "      <td>Alice</td>\n",
       "      <td>HR</td>\n",
       "      <td>45000.0</td>\n",
       "    </tr>\n",
       "    <tr>\n",
       "      <th>1</th>\n",
       "      <td>2</td>\n",
       "      <td>Bob</td>\n",
       "      <td>IT</td>\n",
       "      <td>60000.0</td>\n",
       "    </tr>\n",
       "    <tr>\n",
       "      <th>2</th>\n",
       "      <td>3</td>\n",
       "      <td>Charlie</td>\n",
       "      <td>Finance</td>\n",
       "      <td>55000.0</td>\n",
       "    </tr>\n",
       "    <tr>\n",
       "      <th>3</th>\n",
       "      <td>4</td>\n",
       "      <td>David</td>\n",
       "      <td>IT</td>\n",
       "      <td>70000.0</td>\n",
       "    </tr>\n",
       "    <tr>\n",
       "      <th>4</th>\n",
       "      <td>5</td>\n",
       "      <td>Emma</td>\n",
       "      <td>HR</td>\n",
       "      <td>50000.0</td>\n",
       "    </tr>\n",
       "  </tbody>\n",
       "</table>\n",
       "</div>"
      ],
      "text/plain": [
       "   id     name department   salary\n",
       "0   1    Alice         HR  45000.0\n",
       "1   2      Bob         IT  60000.0\n",
       "2   3  Charlie    Finance  55000.0\n",
       "3   4    David         IT  70000.0\n",
       "4   5     Emma         HR  50000.0"
      ]
     },
     "execution_count": 142,
     "metadata": {},
     "output_type": "execute_result"
    }
   ],
   "source": [
    "query = \"SELECT * FROM employees;\"\n",
    "df = pd.read_sql(query, connection)\n",
    "df\n"
   ]
  },
  {
   "cell_type": "code",
   "execution_count": 143,
   "id": "07fa76aa",
   "metadata": {},
   "outputs": [
    {
     "data": {
      "text/html": [
       "<div>\n",
       "<style scoped>\n",
       "    .dataframe tbody tr th:only-of-type {\n",
       "        vertical-align: middle;\n",
       "    }\n",
       "\n",
       "    .dataframe tbody tr th {\n",
       "        vertical-align: top;\n",
       "    }\n",
       "\n",
       "    .dataframe thead th {\n",
       "        text-align: right;\n",
       "    }\n",
       "</style>\n",
       "<table border=\"1\" class=\"dataframe\">\n",
       "  <thead>\n",
       "    <tr style=\"text-align: right;\">\n",
       "      <th></th>\n",
       "      <th>id</th>\n",
       "      <th>name</th>\n",
       "      <th>department</th>\n",
       "      <th>salary</th>\n",
       "    </tr>\n",
       "  </thead>\n",
       "  <tbody>\n",
       "    <tr>\n",
       "      <th>0</th>\n",
       "      <td>1</td>\n",
       "      <td>Alice</td>\n",
       "      <td>HR</td>\n",
       "      <td>45000.0</td>\n",
       "    </tr>\n",
       "    <tr>\n",
       "      <th>1</th>\n",
       "      <td>2</td>\n",
       "      <td>Bob</td>\n",
       "      <td>IT</td>\n",
       "      <td>60000.0</td>\n",
       "    </tr>\n",
       "    <tr>\n",
       "      <th>2</th>\n",
       "      <td>3</td>\n",
       "      <td>Charlie</td>\n",
       "      <td>Finance</td>\n",
       "      <td>55000.0</td>\n",
       "    </tr>\n",
       "    <tr>\n",
       "      <th>3</th>\n",
       "      <td>4</td>\n",
       "      <td>David</td>\n",
       "      <td>IT</td>\n",
       "      <td>70000.0</td>\n",
       "    </tr>\n",
       "    <tr>\n",
       "      <th>4</th>\n",
       "      <td>5</td>\n",
       "      <td>Emma</td>\n",
       "      <td>HR</td>\n",
       "      <td>50000.0</td>\n",
       "    </tr>\n",
       "  </tbody>\n",
       "</table>\n",
       "</div>"
      ],
      "text/plain": [
       "   id     name department   salary\n",
       "0   1    Alice         HR  45000.0\n",
       "1   2      Bob         IT  60000.0\n",
       "2   3  Charlie    Finance  55000.0\n",
       "3   4    David         IT  70000.0\n",
       "4   5     Emma         HR  50000.0"
      ]
     },
     "execution_count": 143,
     "metadata": {},
     "output_type": "execute_result"
    }
   ],
   "source": [
    "df.head()"
   ]
  },
  {
   "cell_type": "code",
   "execution_count": 144,
   "id": "36322faf",
   "metadata": {},
   "outputs": [
    {
     "data": {
      "text/html": [
       "<div>\n",
       "<style scoped>\n",
       "    .dataframe tbody tr th:only-of-type {\n",
       "        vertical-align: middle;\n",
       "    }\n",
       "\n",
       "    .dataframe tbody tr th {\n",
       "        vertical-align: top;\n",
       "    }\n",
       "\n",
       "    .dataframe thead th {\n",
       "        text-align: right;\n",
       "    }\n",
       "</style>\n",
       "<table border=\"1\" class=\"dataframe\">\n",
       "  <thead>\n",
       "    <tr style=\"text-align: right;\">\n",
       "      <th></th>\n",
       "      <th>id</th>\n",
       "      <th>salary</th>\n",
       "    </tr>\n",
       "  </thead>\n",
       "  <tbody>\n",
       "    <tr>\n",
       "      <th>count</th>\n",
       "      <td>5.000000</td>\n",
       "      <td>5.000000</td>\n",
       "    </tr>\n",
       "    <tr>\n",
       "      <th>mean</th>\n",
       "      <td>3.000000</td>\n",
       "      <td>56000.000000</td>\n",
       "    </tr>\n",
       "    <tr>\n",
       "      <th>std</th>\n",
       "      <td>1.581139</td>\n",
       "      <td>9617.692031</td>\n",
       "    </tr>\n",
       "    <tr>\n",
       "      <th>min</th>\n",
       "      <td>1.000000</td>\n",
       "      <td>45000.000000</td>\n",
       "    </tr>\n",
       "    <tr>\n",
       "      <th>25%</th>\n",
       "      <td>2.000000</td>\n",
       "      <td>50000.000000</td>\n",
       "    </tr>\n",
       "    <tr>\n",
       "      <th>50%</th>\n",
       "      <td>3.000000</td>\n",
       "      <td>55000.000000</td>\n",
       "    </tr>\n",
       "    <tr>\n",
       "      <th>75%</th>\n",
       "      <td>4.000000</td>\n",
       "      <td>60000.000000</td>\n",
       "    </tr>\n",
       "    <tr>\n",
       "      <th>max</th>\n",
       "      <td>5.000000</td>\n",
       "      <td>70000.000000</td>\n",
       "    </tr>\n",
       "  </tbody>\n",
       "</table>\n",
       "</div>"
      ],
      "text/plain": [
       "             id        salary\n",
       "count  5.000000      5.000000\n",
       "mean   3.000000  56000.000000\n",
       "std    1.581139   9617.692031\n",
       "min    1.000000  45000.000000\n",
       "25%    2.000000  50000.000000\n",
       "50%    3.000000  55000.000000\n",
       "75%    4.000000  60000.000000\n",
       "max    5.000000  70000.000000"
      ]
     },
     "execution_count": 144,
     "metadata": {},
     "output_type": "execute_result"
    }
   ],
   "source": [
    "# Summary statistics\n",
    "df.describe()"
   ]
  },
  {
   "cell_type": "code",
   "execution_count": 145,
   "id": "1f0f8287",
   "metadata": {},
   "outputs": [
    {
     "name": "stdout",
     "output_type": "stream",
     "text": [
      "56000.0\n",
      "70000.0\n"
     ]
    }
   ],
   "source": [
    "# Average salary\n",
    "print(df[\"salary\"].mean())\n",
    "\n",
    "# Highest salary\n",
    "print(df[\"salary\"].max())\n"
   ]
  },
  {
   "cell_type": "code",
   "execution_count": 146,
   "id": "da435196",
   "metadata": {},
   "outputs": [
    {
     "data": {
      "text/plain": [
       "department\n",
       "Finance    55000.0\n",
       "HR         47500.0\n",
       "IT         65000.0\n",
       "Name: salary, dtype: float64"
      ]
     },
     "execution_count": 146,
     "metadata": {},
     "output_type": "execute_result"
    }
   ],
   "source": [
    "# Group by department\n",
    "dept_avg = df.groupby(\"department\")[\"salary\"].mean()\n",
    "dept_avg "
   ]
  },
  {
   "cell_type": "code",
   "execution_count": 147,
   "id": "24f385c0",
   "metadata": {},
   "outputs": [
    {
     "data": {
      "image/png": "[encoded data removed]",
      "text/plain": [
       "<Figure size 800x500 with 1 Axes>"
      ]
     },
     "metadata": {},
     "output_type": "display_data"
    }
   ],
   "source": [
    "plt.figure(figsize=(8,5))\n",
    "plt.bar(df['name'], df['salary'], color='skyblue', edgecolor='black')\n",
    "plt.title(\"Employee Salary Comparison\")\n",
    "plt.xlabel(\"Employee Name\")\n",
    "plt.ylabel(\"Salary\")\n",
    "plt.show()"
   ]
  },
  {
   "cell_type": "code",
   "execution_count": 155,
   "id": "307041ed",
   "metadata": {},
   "outputs": [],
   "source": [
    "cursor.close()\n",
    "connection.close()"
   ]
  },
  {
   "cell_type": "markdown",
   "id": "add4c158",
   "metadata": {},
   "source": [
    "| Method / Property   | Purpose                             |\n",
    "| ------------------- | ----------------------------------- |\n",
    "| `connection.commit()`          | Save changes (INSERT/UPDATE/DELETE) |\n",
    "| `connection.rollback()`        | Undo uncommitted changes            |\n",
    "| `connection.close()`           | Close the connection safely         |\n",
    "| `connection.is_connected()`    | Check if the connection is active   |\n",
    "| `connection.get_server_info` | Get MySQL server version            |\n",
    "| `connection.database`          | Show the current database           |\n",
    "| `connection.cmd_query()`       | Low-level SQL execution             |\n"
   ]
  },
  {
   "cell_type": "code",
   "execution_count": 149,
   "id": "3e78f20d",
   "metadata": {},
   "outputs": [
    {
     "data": {
      "text/plain": [
       "True"
      ]
     },
     "execution_count": 149,
     "metadata": {},
     "output_type": "execute_result"
    }
   ],
   "source": [
    "connection.is_connected()"
   ]
  },
  {
   "cell_type": "code",
   "execution_count": null,
   "id": "d85e37d8",
   "metadata": {},
   "outputs": [],
   "source": [
    "print(connection.close)"
   ]
  },
  {
   "cell_type": "code",
   "execution_count": 151,
   "id": "7af60315",
   "metadata": {},
   "outputs": [
    {
     "data": {
      "text/plain": [
       "'8.0.43'"
      ]
     },
     "execution_count": 151,
     "metadata": {},
     "output_type": "execute_result"
    }
   ],
   "source": [
    "connection.server_info"
   ]
  },
  {
   "cell_type": "code",
   "execution_count": 153,
   "id": "0056a119",
   "metadata": {},
   "outputs": [
    {
     "data": {
      "text/plain": [
       "'joe'"
      ]
     },
     "execution_count": 153,
     "metadata": {},
     "output_type": "execute_result"
    }
   ],
   "source": [
    "connection.database #connection.database → Property, not a method"
   ]
  },
  {
   "cell_type": "markdown",
   "id": "a0e27429",
   "metadata": {},
   "source": [
    "After close the connection:"
   ]
  },
  {
   "cell_type": "code",
   "execution_count": 156,
   "id": "8a798370",
   "metadata": {},
   "outputs": [
    {
     "data": {
      "text/plain": [
       "False"
      ]
     },
     "execution_count": 156,
     "metadata": {},
     "output_type": "execute_result"
    }
   ],
   "source": [
    "connection.is_connected()"
   ]
  },
  {
   "cell_type": "code",
   "execution_count": 157,
   "id": "eec6406c",
   "metadata": {},
   "outputs": [
    {
     "data": {
      "text/plain": [
       "'8.0.43'"
      ]
     },
     "execution_count": 157,
     "metadata": {},
     "output_type": "execute_result"
    }
   ],
   "source": [
    "connection.server_info"
   ]
  },
  {
   "cell_type": "code",
   "execution_count": 159,
   "id": "56f5fce1",
   "metadata": {},
   "outputs": [],
   "source": [
    "#connection.database           Error : - MySQL server has gone away"
   ]
  },
  {
   "cell_type": "code",
   "execution_count": null,
   "id": "a647af52",
   "metadata": {},
   "outputs": [],
   "source": []
  }
 ],
 "metadata": {
  "kernelspec": {
   "display_name": "p1",
   "language": "python",
   "name": "python3"
  },
  "language_info": {
   "codemirror_mode": {
    "name": "ipython",
    "version": 3
   },
   "file_extension": ".py",
   "mimetype": "text/x-python",
   "name": "python",
   "nbconvert_exporter": "python",
   "pygments_lexer": "ipython3",
   "version": "3.10.16"
  }
 },
 "nbformat": 4,
 "nbformat_minor": 5
}
